{
  "nbformat": 4,
  "nbformat_minor": 0,
  "metadata": {
    "colab": {
      "provenance": [],
      "include_colab_link": true
    },
    "kernelspec": {
      "name": "python3",
      "display_name": "Python 3"
    },
    "language_info": {
      "name": "python"
    }
  },
  "cells": [
    {
      "cell_type": "markdown",
      "metadata": {
        "id": "view-in-github",
        "colab_type": "text"
      },
      "source": [
        "<a href=\"https://colab.research.google.com/github/ilovesylus/computer/blob/main/hw02.ipynb\" target=\"_parent\"><img src=\"https://colab.research.google.com/assets/colab-badge.svg\" alt=\"Open In Colab\"/></a>"
      ]
    },
    {
      "cell_type": "markdown",
      "source": [
        "# HW02 Web Crawler"
      ],
      "metadata": {
        "id": "eo72fZ0YlURV"
      }
    },
    {
      "cell_type": "markdown",
      "source": [
        "## 題目"
      ],
      "metadata": {
        "id": "gUsBAopRJMJD"
      }
    },
    {
      "cell_type": "markdown",
      "source": [
        "爬取 kkday東京燒烤資料"
      ],
      "metadata": {
        "id": "pDHhflLyJRgS"
      }
    },
    {
      "cell_type": "markdown",
      "source": [
        "## 摘要"
      ],
      "metadata": {
        "id": "hbqT3pl04Hl9"
      }
    },
    {
      "cell_type": "markdown",
      "source": [
        "本報告旨在透過網路爬蟲技術，收集 KKday 網站上東京燒烤的推薦資料，為旅遊提供參考。\n"
      ],
      "metadata": {
        "id": "eweMw-wh4TC0"
      }
    },
    {
      "cell_type": "markdown",
      "source": [
        "## 引言"
      ],
      "metadata": {
        "id": "9nb1aHAM4XiE"
      }
    },
    {
      "cell_type": "markdown",
      "source": [
        "隨著旅遊需求的增加，選擇合適的住宿成為旅遊規劃中的重要環節。KKday 作為知名的旅遊平台，提供多樣的美食選擇。\n",
        "\n",
        "本次爬蟲的目標是獲取 KKday 平台上東京燒烤的推薦，分析其價格、地理位置、評價等資訊，為旅遊者提供決策支持。"
      ],
      "metadata": {
        "id": "0ZmT034r5F9R"
      }
    },
    {
      "cell_type": "markdown",
      "source": [
        "## 方法"
      ],
      "metadata": {
        "id": "8YMFd39F4n4l"
      }
    },
    {
      "cell_type": "markdown",
      "source": [
        "- 目標網站描述\n",
        "  - 目標網站：KKday 東京住宿推薦頁面。  \n",
        "  https://www.kkday.com/zh-tw/category/jp-tokyo/accommodation\n",
        "  - 頁面結構：包含住宿名稱、圖片、價格、評價等資訊。\n",
        "\n",
        "- 工具與技術\n",
        "  - 使用 Python 的 `requests` 庫發送 HTTP 請求。\n",
        "  - 使用 `BeautifulSoup` 解析 HTML。\n",
        "  - 使用 Google Chrome 開發者工具取得 AJAX 資料。"
      ],
      "metadata": {
        "id": "zkix6XqZ429E"
      }
    },
    {
      "cell_type": "markdown",
      "source": [
        "## 結果\n"
      ],
      "metadata": {
        "id": "mHEo_iad7QMa"
      }
    },
    {
      "cell_type": "code",
      "source": [
        "import requests\n",
        "from bs4 import BeautifulSoup\n",
        "\n",
        "url = 'https://www.kkday.com/zh-tw/promo/japan-foodie'\n",
        "headers = {'user-agent':'Mozilla/5.0 (Windows NT 10.0; Win64; x64) AppleWebKit/537.36 (KHTML, like Gecko) Chrome/137.0.0.0 Safari/537.36'}\n",
        "response = requests.get(url, headers = headers)\n",
        "soup = BeautifulSoup(response.text, 'lxml')\n",
        "soup.title"
      ],
      "metadata": {
        "id": "1Po0sUDFsqOo",
        "outputId": "e0d7b07c-8dff-4c63-d420-0ff02570b4b4",
        "colab": {
          "base_uri": "https://localhost:8080/"
        }
      },
      "execution_count": 68,
      "outputs": [
        {
          "output_type": "execute_result",
          "data": {
            "text/plain": [
              "<title>日本美食通 - KKday</title>"
            ]
          },
          "metadata": {},
          "execution_count": 68
        }
      ]
    },
    {
      "cell_type": "code",
      "source": [
        "import requests\n",
        "url = 'https://www.kkday.com/zh-tw/category/ajax_get_top_products?productCategory=CATEGORY_079&destination=D-JP-3261'\n",
        "headers = {'user-agent':'Mozilla/5.0 (Windows NT 10.0; Win64; x64) AppleWebKit/537.36 (KHTML, like Gecko) Chrome/137.0.0.0 Safari/537.36'}\n",
        "response = requests.get(url, headers = headers)\n",
        "foodie = response.json()\n"
      ],
      "metadata": {
        "id": "FjGtQVJTsx9x"
      },
      "execution_count": 83,
      "outputs": []
    },
    {
      "cell_type": "code",
      "source": [
        "foodie['data']"
      ],
      "metadata": {
        "collapsed": true,
        "id": "RmPLUFoyyrUx",
        "outputId": "3c66f26a-a753-4820-ff04-743e07d408f8",
        "colab": {
          "base_uri": "https://localhost:8080/"
        }
      },
      "execution_count": 84,
      "outputs": [
        {
          "output_type": "execute_result",
          "data": {
            "text/plain": [
              "[{'prod_mid': 141701,\n",
              "  'prod_oid': 141701,\n",
              "  'name': '日本東京|肉屋台所 A5和牛燒肉吃到飽|東京新宿・澀谷・上野等',\n",
              "  'introduction': '東京都內的肉屋台所有上野店、上野公園店、新宿店、澀谷宮益坂店、道玄坂店、飯田橋店、五反田店等分店。本店一次大量採購精選A4和A5等級的和牛,搭配肉料理職人的肉品區塊分解,來降低中間加工費用,實現了高 CP 值的料理。提供您用合理價格享受和牛臀肉和芯玉等稀少部位的吃到飽服務。',\n",
              "  'rating_count': 342,\n",
              "  'rating_star': 4.21,\n",
              "  'show_order_count': '2K+',\n",
              "  'earliest_sale_date': '20250615',\n",
              "  'sale_status': 1,\n",
              "  'purchase_type': None,\n",
              "  'purchase_date': None,\n",
              "  'is_tourism_product': True,\n",
              "  'readable_url': 'all-you-can-eat-japanese-wagyu-beef-bbq-yakiniku-butchers-kitchen-ueno-park-branch-tokyo-gourmet',\n",
              "  'product_category': {'main': 'CATEGORY_079', 'sub': []},\n",
              "  'display_tags': ['4天前可免費取消', '即買即用', '立即確認'],\n",
              "  'img_url_list': ['https://image.kkday.com/image/get/w_600%2Cc_fit/s1.kkday.com/product_141701/20230330082655_bw4ZN/jpg',\n",
              "   'https://image.kkday.com/image/get/w_600%2Cc_fit/s1.kkday.com/product_141701/20230330082653_I4Mei/png',\n",
              "   'https://image.kkday.com/image/get/w_600%2Cc_fit/s1.kkday.com/product_141701/20230330082654_tBdX5/png',\n",
              "   'https://image.kkday.com/image/get/w_600%2Cc_fit/s1.kkday.com/product_141701/20230330082655_wWTjF/jpg',\n",
              "   'https://image.kkday.com/image/get/w_600%2Cc_fit/s1.kkday.com/product_141701/20230330082657_AJkAq/png',\n",
              "   'https://image.kkday.com/image/get/w_600%2Cc_fit/s1.kkday.com/product_141701/20250314075230_oSnHE/jpg',\n",
              "   'https://image.kkday.com/image/get/w_600%2Cc_fit/s1.kkday.com/product_141701/20230330082658_aVIyg/jpg',\n",
              "   'https://image.kkday.com/image/get/w_600%2Cc_fit/s1.kkday.com/product_141701/20230330082659_fKF6l/jpg',\n",
              "   'https://image.kkday.com/image/get/w_600%2Cc_fit/s1.kkday.com/product_141701/20230330082701_eHrW8/jpg'],\n",
              "  'currency': 'TWD',\n",
              "  'official_price': 922,\n",
              "  'max_price': 3073,\n",
              "  'min_price': 922,\n",
              "  'discount': 0,\n",
              "  'is_display_price': False,\n",
              "  'destinations': [{'code': 'D-JP-7753', 'name': '宮益坂'},\n",
              "   {'code': 'D-JP-3651', 'name': '新宿'},\n",
              "   {'code': 'D-JP-3654', 'name': '澀谷'},\n",
              "   {'code': 'D-JP-3660', 'name': '品川'},\n",
              "   {'code': 'D-JP-7347', 'name': '日本橋川'},\n",
              "   {'code': 'D-JP-7423', 'name': '中區'},\n",
              "   {'code': 'D-JP-7501', 'name': '谷中'},\n",
              "   {'code': 'D-JP-7525', 'name': '新日本橋'},\n",
              "   {'code': 'D-JP-8015', 'name': '日本橋'},\n",
              "   {'code': 'D-JP-3261', 'name': '東京'},\n",
              "   {'code': 'D-JP-3218', 'name': '關東'},\n",
              "   {'code': 'D-JP-112', 'name': '日本'}],\n",
              "  'is_marketplace': False,\n",
              "  'supplier_oid_list': [29844, 11520],\n",
              "  'supplier_name': None,\n",
              "  'supplier_logo': None,\n",
              "  'supplier_badge': 0,\n",
              "  'is_zero_price': False,\n",
              "  'is_kkday_best_route': False,\n",
              "  'prod_discount_type': None,\n",
              "  'instant_booking': True},\n",
              " {'prod_mid': 21819,\n",
              "  'prod_oid': 21819,\n",
              "  'name': '日本・東京|百年老店しゃぶ禅・日式涮鍋・壽喜燒|銀座店',\n",
              "  'introduction': '老字號日本火鍋餐廳—しゃぶ禪,國產和牛、黑毛和牛 2 小時吃到飽,就算分店眾多仍是一位難求!極薄的牛肉片在高湯和壽喜鍋湯汁中輕涮,帶出日本高級牛肉原有的滋味和芳香。KKday和交通方便的銀座店合作,一邊品嚐新鮮軟嫩的和牛之餘還能欣賞東京灣的風景!',\n",
              "  'rating_count': 77,\n",
              "  'rating_star': 4.64,\n",
              "  'show_order_count': '500+',\n",
              "  'earliest_sale_date': '20250617',\n",
              "  'sale_status': 1,\n",
              "  'purchase_type': None,\n",
              "  'purchase_date': None,\n",
              "  'is_tourism_product': True,\n",
              "  'readable_url': 'tokyo-gourmet-sukiyaki-shabu-shabu-all-you-can-eat-buffet-shabu-zen-ginza',\n",
              "  'product_category': {'main': 'CATEGORY_079', 'sub': []},\n",
              "  'display_tags': [],\n",
              "  'img_url_list': ['https://image.kkday.com/image/get/w_600%2Cc_fit/s1.kkday.com/product_21819/20190227075818_rktX6/jpg',\n",
              "   'https://image.kkday.com/image/get/w_600%2Cc_fit/s1.kkday.com/product_21819/20190227075827_t6glt/jpg',\n",
              "   'https://image.kkday.com/image/get/w_600%2Cc_fit/s1.kkday.com/product_21819/20230210025008_Ofkhg/jpg',\n",
              "   'https://image.kkday.com/image/get/w_600%2Cc_fit/s1.kkday.com/product_21819/20190227075755_sHqZB/jpg',\n",
              "   'https://image.kkday.com/image/get/w_600%2Cc_fit/s1.kkday.com/product_21819/20190227075758_v0CsC/jpg',\n",
              "   'https://image.kkday.com/image/get/w_600%2Cc_fit/s1.kkday.com/product_21819/20190227075752_43RKj/jpg',\n",
              "   'https://image.kkday.com/image/get/w_600%2Cc_fit/s1.kkday.com/product_21819/20190227075842_MLJ60/jpg',\n",
              "   'https://image.kkday.com/image/get/w_600%2Cc_fit/s1.kkday.com/product_21819/20190227075848_iZhen/jpg',\n",
              "   'https://image.kkday.com/image/get/w_600%2Cc_fit/s1.kkday.com/product_21819/20230210025007_NrJLI/png'],\n",
              "  'currency': 'TWD',\n",
              "  'official_price': 2321,\n",
              "  'max_price': 8676,\n",
              "  'min_price': 2321,\n",
              "  'discount': 0,\n",
              "  'is_display_price': False,\n",
              "  'destinations': [{'code': 'D-JP-3648', 'name': '銀座'},\n",
              "   {'code': 'D-JP-3261', 'name': '東京'},\n",
              "   {'code': 'D-JP-3218', 'name': '關東'},\n",
              "   {'code': 'D-JP-112', 'name': '日本'}],\n",
              "  'is_marketplace': False,\n",
              "  'supplier_oid_list': [1017],\n",
              "  'supplier_name': None,\n",
              "  'supplier_logo': None,\n",
              "  'supplier_badge': 0,\n",
              "  'is_zero_price': False,\n",
              "  'is_kkday_best_route': False,\n",
              "  'prod_discount_type': None,\n",
              "  'instant_booking': False},\n",
              " {'prod_mid': 164991,\n",
              "  'prod_oid': 164991,\n",
              "  'name': '日本東京|燒肉房家 A5和牛套餐|西日暮里本店・日暮里店・上野六丁目店・日本橋店・東京車站店',\n",
              "  'introduction': '距離車站步行2分鐘,交通便利的好位置。使用的是採購整頭牛的A5等級日本和牛的道地燒肉店。因所採購的是一整頭牛,您可享受難能可貴的用餐體驗。在此可享用每天更換的各種部位的牛肉拼盤及新鮮製作的冷面。無論吃什麼、喝什麼,盡是美味。也請務必參考谷歌等等的網站介紹。房家等候您的光臨。',\n",
              "  'rating_count': 17,\n",
              "  'rating_star': 4.47,\n",
              "  'show_order_count': '200+',\n",
              "  'earliest_sale_date': '20250615',\n",
              "  'sale_status': 1,\n",
              "  'purchase_type': None,\n",
              "  'purchase_date': None,\n",
              "  'is_tourism_product': True,\n",
              "  'readable_url': None,\n",
              "  'product_category': {'main': 'CATEGORY_079', 'sub': []},\n",
              "  'display_tags': ['4天前可免費取消', '即買即用', '立即確認'],\n",
              "  'img_url_list': ['https://image.kkday.com/image/get/w_600%2Cc_fit/s1.kkday.com/product_164991/20240318065722_K8PxL/jpg',\n",
              "   'https://image.kkday.com/image/get/w_600%2Cc_fit/s1.kkday.com/product_164991/20240318065722_mBjNS/jpg',\n",
              "   'https://image.kkday.com/image/get/w_600%2Cc_fit/s1.kkday.com/product_164991/20241211075702_HaIIH/jpg',\n",
              "   'https://image.kkday.com/image/get/w_600%2Cc_fit/s1.kkday.com/product_164991/20240318065722_vbyx6/jpg',\n",
              "   'https://image.kkday.com/image/get/w_600%2Cc_fit/s1.kkday.com/product_164991/20240318065722_91iIO/jpg',\n",
              "   'https://image.kkday.com/image/get/w_600%2Cc_fit/s1.kkday.com/product_164991/20240318065722_O7isV/jpg',\n",
              "   'https://image.kkday.com/image/get/w_600%2Cc_fit/s1.kkday.com/product_164991/20240318065722_HE4WL/jpg',\n",
              "   'https://image.kkday.com/image/get/w_600%2Cc_fit/s1.kkday.com/product_164991/20240318065722_iZ5mA/jpg',\n",
              "   'https://image.kkday.com/image/get/w_600%2Cc_fit/s1.kkday.com/product_164991/20240318065722_9KCsN/jpg'],\n",
              "  'currency': 'TWD',\n",
              "  'official_price': 1125,\n",
              "  'max_price': 3073,\n",
              "  'min_price': 1125,\n",
              "  'discount': 0,\n",
              "  'is_display_price': False,\n",
              "  'destinations': [{'code': 'D-JP-3655', 'name': '荒川'},\n",
              "   {'code': 'D-JP-7347', 'name': '日本橋川'},\n",
              "   {'code': 'D-JP-7525', 'name': '新日本橋'},\n",
              "   {'code': 'D-JP-8015', 'name': '日本橋'},\n",
              "   {'code': 'D-JP-3261', 'name': '東京'},\n",
              "   {'code': 'D-JP-3218', 'name': '關東'},\n",
              "   {'code': 'D-JP-112', 'name': '日本'}],\n",
              "  'is_marketplace': False,\n",
              "  'supplier_oid_list': [29844],\n",
              "  'supplier_name': None,\n",
              "  'supplier_logo': None,\n",
              "  'supplier_badge': 0,\n",
              "  'is_zero_price': False,\n",
              "  'is_kkday_best_route': False,\n",
              "  'prod_discount_type': None,\n",
              "  'instant_booking': True},\n",
              " {'prod_mid': 11352,\n",
              "  'prod_oid': 11352,\n",
              "  'name': '日本\\x08人氣河豚餐廳 | 河豚料理名店・玄品河豚',\n",
              "  'introduction': '線上訂購日本人氣河豚餐廳,東京、大阪、京都、北海道各種分店自由選擇,創業 33 年銷售量及店鋪數量日本第一的「 玄品河豚 」每年到訪人數達 81 萬人,「 虎河豚 」被視為最高級的品種。為了以更加美味的狀態提供虎河豚,玄品河豚的獨家技術獲得了國際專利!通過 KKday 預訂免排隊,用餐更方便!',\n",
              "  'rating_count': 1881,\n",
              "  'rating_star': 4.62,\n",
              "  'show_order_count': '10K+',\n",
              "  'earliest_sale_date': '20250617',\n",
              "  'sale_status': 1,\n",
              "  'purchase_type': None,\n",
              "  'purchase_date': None,\n",
              "  'is_tourism_product': True,\n",
              "  'readable_url': 'tiger-pufferfish-cuisine-at-guenpin-fugu-japan',\n",
              "  'product_category': {'main': 'CATEGORY_079', 'sub': []},\n",
              "  'display_tags': ['3天前可免費取消'],\n",
              "  'img_url_list': ['https://image.kkday.com/image/get/w_600%2Cc_fit/s1.kkday.com/product_11352/20210520013355_dIBW8/jpg',\n",
              "   'https://image.kkday.com/image/get/w_600%2Cc_fit/s1.kkday.com/product_11352/20221025121732_HWxHu/jpg',\n",
              "   'https://image.kkday.com/image/get/w_600%2Cc_fit/s1.kkday.com/product_11352/20170322124950_YxGYb/jpg',\n",
              "   'https://image.kkday.com/image/get/w_600%2Cc_fit/s1.kkday.com/product_11352/20170317072606_F6ybw/jpg',\n",
              "   'https://image.kkday.com/image/get/w_600%2Cc_fit/s1.kkday.com/product_11352/20170317072553_IDooc/jpg',\n",
              "   'https://image.kkday.com/image/get/w_600%2Cc_fit/s1.kkday.com/product_11352/20170323084510_jLEM0/jpg',\n",
              "   'https://image.kkday.com/image/get/w_600%2Cc_fit/s1.kkday.com/product_11352/20210520013351_nBS1M/jpg',\n",
              "   'https://image.kkday.com/image/get/w_600%2Cc_fit/s1.kkday.com/product_11352/20240628053835_uuZYm/jpg',\n",
              "   'https://image.kkday.com/image/get/w_600%2Cc_fit/s1.kkday.com/product_11352/20170317072627_EIGJ4/jpg',\n",
              "   'https://image.kkday.com/image/get/w_600%2Cc_fit/s1.kkday.com/product_11352/20221025121638_H0bwb/jpg'],\n",
              "  'currency': 'TWD',\n",
              "  'official_price': 1086,\n",
              "  'max_price': 5327,\n",
              "  'min_price': 1086,\n",
              "  'discount': 0,\n",
              "  'is_display_price': False,\n",
              "  'destinations': [{'code': 'D-JP-7647', 'name': '西新宿'},\n",
              "   {'code': 'D-JP-7835', 'name': '大阪梅田'},\n",
              "   {'code': 'D-JP-8025', 'name': '大橫川'},\n",
              "   {'code': 'D-JP-3302', 'name': '浦安'},\n",
              "   {'code': 'D-JP-3307', 'name': '千葉市'},\n",
              "   {'code': 'D-JP-3342', 'name': '心齋橋'},\n",
              "   {'code': 'D-JP-3347', 'name': '梅田地區'},\n",
              "   {'code': 'D-JP-3414', 'name': '札幌'},\n",
              "   {'code': 'D-JP-3555', 'name': '祇園'},\n",
              "   {'code': 'D-JP-3556', 'name': '東山'},\n",
              "   {'code': 'D-JP-3638', 'name': '池袋'},\n",
              "   {'code': 'D-JP-3639', 'name': '淺草'},\n",
              "   {'code': 'D-JP-3651', 'name': '新宿'},\n",
              "   {'code': 'D-JP-3653', 'name': '大田區'},\n",
              "   {'code': 'D-JP-3842', 'name': '川崎'},\n",
              "   {'code': 'D-JP-3844', 'name': '橫濱'},\n",
              "   {'code': 'D-JP-3887', 'name': '埼玉市'},\n",
              "   {'code': 'D-JP-7347', 'name': '日本橋川'},\n",
              "   {'code': 'D-JP-7524', 'name': '玉川'},\n",
              "   {'code': 'D-JP-7525', 'name': '新日本橋'},\n",
              "   {'code': 'D-JP-8015', 'name': '日本橋'},\n",
              "   {'code': 'D-JP-3231', 'name': '北海道'},\n",
              "   {'code': 'D-JP-3255', 'name': '大阪'},\n",
              "   {'code': 'D-JP-3256', 'name': '京都'},\n",
              "   {'code': 'D-JP-3260', 'name': '千葉'},\n",
              "   {'code': 'D-JP-3261', 'name': '東京'},\n",
              "   {'code': 'D-JP-3263', 'name': '神奈川'},\n",
              "   {'code': 'D-JP-3265', 'name': '埼玉'},\n",
              "   {'code': 'D-JP-3217', 'name': '關西'},\n",
              "   {'code': 'D-JP-3218', 'name': '關東'},\n",
              "   {'code': 'D-JP-112', 'name': '日本'}],\n",
              "  'is_marketplace': False,\n",
              "  'supplier_oid_list': [1017],\n",
              "  'supplier_name': None,\n",
              "  'supplier_logo': None,\n",
              "  'supplier_badge': 0,\n",
              "  'is_zero_price': False,\n",
              "  'is_kkday_best_route': False,\n",
              "  'prod_discount_type': None,\n",
              "  'instant_booking': False},\n",
              " {'prod_mid': 207035,\n",
              "  'prod_oid': 207035,\n",
              "  'name': '東京新宿| 燒肉新宿烤肉牛舌檸檬(新宿烤肉牛舌檸檬本店)|僅座位預訂',\n",
              "  'introduction': '厚切牛舌味道鮮美! 「新宿烤肉牛舌的檸檬」的總店。唯一直營店在大阪難波開幕。如果您想在之前去, 11:30 或 17:00 是最佳時間! !您也可以透過電話預訂!\\n此外,即使Tabelog線上預訂已滿,透過Instagram預訂也可能有空位!\\n轉到下面的 URL。\\n我們還提供免費座位,因此您當天可以來,無需預約。\\n\\n備註:對於已預訂的顧客\\n若您遲到5分鐘以上且沒有聯絡我們,我們將讓等候的顧客先入。\\n請等到下一個座位空出來。\\n週五、六至 22:30\\n備註:套餐限60分鐘。\\n注意:無法指定座位類型',\n",
              "  'rating_count': 54,\n",
              "  'rating_star': 4.69,\n",
              "  'show_order_count': '600+',\n",
              "  'earliest_sale_date': '20250615',\n",
              "  'sale_status': 1,\n",
              "  'purchase_type': None,\n",
              "  'purchase_date': None,\n",
              "  'is_tourism_product': False,\n",
              "  'readable_url': None,\n",
              "  'product_category': {'main': 'CATEGORY_079', 'sub': []},\n",
              "  'display_tags': ['3天前可免費取消', '即買即用', '立即確認'],\n",
              "  'img_url_list': ['https://image.kkday.com/image/get/w_600%2Cc_fit/s1.kkday.com/product_207035/20241001165737_QCecs/png',\n",
              "   'https://image.kkday.com/image/get/w_600%2Cc_fit/s1.kkday.com/product_207035/20241001165737_QVTHd/png',\n",
              "   'https://image.kkday.com/image/get/w_600%2Cc_fit/s1.kkday.com/product_207035/20241001165737_qiuUF/png',\n",
              "   'https://image.kkday.com/image/get/w_600%2Cc_fit/s1.kkday.com/product_207035/20241001165737_fgZd5/png',\n",
              "   'https://image.kkday.com/image/get/w_600%2Cc_fit/s1.kkday.com/product_207035/20241001165737_6ifM9/png',\n",
              "   'https://image.kkday.com/image/get/w_600%2Cc_fit/s1.kkday.com/product_207035/20241001165737_VtgO1/png',\n",
              "   'https://image.kkday.com/image/get/w_600%2Cc_fit/s1.kkday.com/product_207035/20241001165737_Ekj4r/png',\n",
              "   'https://image.kkday.com/image/get/w_600%2Cc_fit/s1.kkday.com/product_207035/20241001165737_bWR0r/png',\n",
              "   'https://image.kkday.com/image/get/w_600%2Cc_fit/s1.kkday.com/product_207035/20241001165737_coJ63/png',\n",
              "   'https://image.kkday.com/image/get/w_600%2Cc_fit/s1.kkday.com/product_207035/20241001165737_4SgyU/png',\n",
              "   'https://image.kkday.com/image/get/w_600%2Cc_fit/s1.kkday.com/product_207035/20241001165737_DfGtY/png',\n",
              "   'https://image.kkday.com/image/get/w_600%2Cc_fit/s1.kkday.com/product_207035/20241001165737_L9Xuf/png',\n",
              "   'https://image.kkday.com/image/get/w_600%2Cc_fit/s1.kkday.com/product_207035/20241001165737_63mRL/png',\n",
              "   'https://image.kkday.com/image/get/w_600%2Cc_fit/s1.kkday.com/product_207035/20241001165737_nQjfX/png',\n",
              "   'https://image.kkday.com/image/get/w_600%2Cc_fit/s1.kkday.com/product_207035/20241001165737_TyCwc/png',\n",
              "   'https://image.kkday.com/image/get/w_600%2Cc_fit/s1.kkday.com/product_207035/20241001165737_GJsIM/png',\n",
              "   'https://image.kkday.com/image/get/w_600%2Cc_fit/s1.kkday.com/product_207035/20241001165737_NhxeI/png',\n",
              "   'https://image.kkday.com/image/get/w_600%2Cc_fit/s1.kkday.com/product_207035/20241001165737_WxXBY/png',\n",
              "   'https://image.kkday.com/image/get/w_600%2Cc_fit/s1.kkday.com/product_207035/20241001165737_2Zd15/png',\n",
              "   'https://image.kkday.com/image/get/w_600%2Cc_fit/s1.kkday.com/product_207035/20241001165737_q5jqj/png',\n",
              "   'https://image.kkday.com/image/get/w_600%2Cc_fit/s1.kkday.com/product_207035/20241001165737_caVff/png'],\n",
              "  'currency': 'TWD',\n",
              "  'official_price': 90,\n",
              "  'max_price': 90,\n",
              "  'min_price': 90,\n",
              "  'discount': 0,\n",
              "  'is_display_price': False,\n",
              "  'destinations': [{'code': 'D-JP-7646', 'name': '歌舞伎町'},\n",
              "   {'code': 'D-JP-3651', 'name': '新宿'},\n",
              "   {'code': 'D-JP-3261', 'name': '東京'},\n",
              "   {'code': 'D-JP-3216', 'name': '東海道'},\n",
              "   {'code': 'D-JP-3218', 'name': '關東'},\n",
              "   {'code': 'D-JP-112', 'name': '日本'}],\n",
              "  'is_marketplace': False,\n",
              "  'supplier_oid_list': [29847],\n",
              "  'supplier_name': None,\n",
              "  'supplier_logo': None,\n",
              "  'supplier_badge': 0,\n",
              "  'is_zero_price': False,\n",
              "  'is_kkday_best_route': False,\n",
              "  'prod_discount_type': None,\n",
              "  'instant_booking': True},\n",
              " {'prod_mid': 145652,\n",
              "  'prod_oid': 145652,\n",
              "  'name': '日本美食|連鎖鐵板燒品牌・Sublime|東京・大阪・名古屋餐廳預約',\n",
              "  'introduction': '用KKday輕鬆訂購被收錄於東京米其林指南的鐵板燒名店Sublime。',\n",
              "  'rating_count': 0,\n",
              "  'rating_star': 0,\n",
              "  'show_order_count': '',\n",
              "  'earliest_sale_date': '20250615',\n",
              "  'sale_status': 1,\n",
              "  'purchase_type': None,\n",
              "  'purchase_date': None,\n",
              "  'is_tourism_product': True,\n",
              "  'readable_url': None,\n",
              "  'product_category': {'main': 'CATEGORY_079', 'sub': []},\n",
              "  'display_tags': ['11天前可免費取消', '即買即用', '立即確認'],\n",
              "  'img_url_list': ['https://image.kkday.com/image/get/w_600%2Cc_fit/s1.kkday.com/product_145652/20230616071022_r4nZz/jpg',\n",
              "   'https://image.kkday.com/image/get/w_600%2Cc_fit/s1.kkday.com/product_145652/20230616071021_yyU0r/jpg'],\n",
              "  'currency': 'TWD',\n",
              "  'official_price': 4753,\n",
              "  'max_price': 9834,\n",
              "  'min_price': 4753,\n",
              "  'discount': 0,\n",
              "  'is_display_price': False,\n",
              "  'destinations': [{'code': 'D-JP-3648', 'name': '銀座'},\n",
              "   {'code': 'D-JP-3342', 'name': '心齋橋'},\n",
              "   {'code': 'D-JP-8015', 'name': '日本橋'},\n",
              "   {'code': 'D-JP-3255', 'name': '大阪'},\n",
              "   {'code': 'D-JP-3261', 'name': '東京'},\n",
              "   {'code': 'D-JP-3217', 'name': '關西'},\n",
              "   {'code': 'D-JP-3218', 'name': '關東'},\n",
              "   {'code': 'D-JP-112', 'name': '日本'}],\n",
              "  'is_marketplace': False,\n",
              "  'supplier_oid_list': [31416],\n",
              "  'supplier_name': None,\n",
              "  'supplier_logo': None,\n",
              "  'supplier_badge': 0,\n",
              "  'is_zero_price': False,\n",
              "  'is_kkday_best_route': False,\n",
              "  'prod_discount_type': None,\n",
              "  'instant_booking': True},\n",
              " {'prod_mid': 135732,\n",
              "  'prod_oid': 135732,\n",
              "  'name': '日本東京|江戶前屋形船|文字燒吃到飽及飲品暢飲',\n",
              "  'introduction': '江戶前汽船是個「業界最便宜」的以「安全・乾淨・高CP值」為原則,且以「由娛樂擴展屋形船」為願景的文字燒屋形船。可周遊象徵了東京的進化的「台場」及「彩虹大橋」等非日常的水上體驗。可享受以東京美食「月島文字燒」為主的「創作鐵板料理」吃到飽&喝到飽。',\n",
              "  'rating_count': 24,\n",
              "  'rating_star': 4.33,\n",
              "  'show_order_count': '100+',\n",
              "  'earliest_sale_date': '20250619',\n",
              "  'sale_status': 1,\n",
              "  'purchase_type': None,\n",
              "  'purchase_date': None,\n",
              "  'is_tourism_product': True,\n",
              "  'readable_url': 'edomae-yakatabune-houseboat-monjayaki-all-you-can-eat-drink-course-tokyo-japan',\n",
              "  'product_category': {'main': 'CATEGORY_079', 'sub': []},\n",
              "  'display_tags': ['5天前可免費取消'],\n",
              "  'img_url_list': ['https://image.kkday.com/image/get/w_600%2Cc_fit/s1.kkday.com/product_135732/20231107084544_WVZAX/jpg',\n",
              "   'https://image.kkday.com/image/get/w_600%2Cc_fit/s1.kkday.com/product_135732/20231110052630_xxQzF/jpg',\n",
              "   'https://image.kkday.com/image/get/w_600%2Cc_fit/s1.kkday.com/product_135732/20221115013332_xvPsk/jpg',\n",
              "   'https://image.kkday.com/image/get/w_600%2Cc_fit/s1.kkday.com/product_135732/20221115013325_LCQN0/jpg',\n",
              "   'https://image.kkday.com/image/get/w_600%2Cc_fit/s1.kkday.com/product_135732/20231107084545_sNQqx/jpg',\n",
              "   'https://image.kkday.com/image/get/w_600%2Cc_fit/s1.kkday.com/product_135732/20231107084545_9rWCa/jpg',\n",
              "   'https://image.kkday.com/image/get/w_600%2Cc_fit/s1.kkday.com/product_135732/20231107085111_IjjcW/jpg'],\n",
              "  'currency': 'TWD',\n",
              "  'official_price': 1952,\n",
              "  'max_price': 2905,\n",
              "  'min_price': 1952,\n",
              "  'discount': 0,\n",
              "  'is_display_price': False,\n",
              "  'destinations': [{'code': 'D-JP-7644', 'name': '上原'},\n",
              "   {'code': 'D-JP-7979', 'name': '月島'},\n",
              "   {'code': 'D-JP-8015', 'name': '日本橋'},\n",
              "   {'code': 'D-JP-3261', 'name': '東京'},\n",
              "   {'code': 'D-JP-3218', 'name': '關東'},\n",
              "   {'code': 'D-JP-112', 'name': '日本'}],\n",
              "  'is_marketplace': False,\n",
              "  'supplier_oid_list': [6565],\n",
              "  'supplier_name': None,\n",
              "  'supplier_logo': None,\n",
              "  'supplier_badge': 0,\n",
              "  'is_zero_price': False,\n",
              "  'is_kkday_best_route': False,\n",
              "  'prod_discount_type': None,\n",
              "  'instant_booking': False},\n",
              " {'prod_mid': 177816,\n",
              "  'prod_oid': 177816,\n",
              "  'name': '日本東京|京橋 天婦羅和壽司 ishii(天冨良と鮨いしい)',\n",
              "  'introduction': '邀請您盡情享受由主廚精選食材製作的美味壽司和天婦羅套餐。',\n",
              "  'rating_count': 0,\n",
              "  'rating_star': 0,\n",
              "  'show_order_count': '',\n",
              "  'earliest_sale_date': '20250615',\n",
              "  'sale_status': 1,\n",
              "  'purchase_type': None,\n",
              "  'purchase_date': None,\n",
              "  'is_tourism_product': True,\n",
              "  'readable_url': None,\n",
              "  'product_category': {'main': 'CATEGORY_079', 'sub': []},\n",
              "  'display_tags': ['10天前可免費取消', '即買即用', '立即確認'],\n",
              "  'img_url_list': ['https://image.kkday.com/image/get/w_600%2Cc_fit/s1.kkday.com/product_177816/20240521040828_DXBon/jpg',\n",
              "   'https://image.kkday.com/image/get/w_600%2Cc_fit/s1.kkday.com/product_177816/20240521040828_nlxuY/jpg',\n",
              "   'https://image.kkday.com/image/get/w_600%2Cc_fit/s1.kkday.com/product_177816/20240521040829_Xt3dy/jpg',\n",
              "   'https://image.kkday.com/image/get/w_600%2Cc_fit/s1.kkday.com/product_177816/20240521040827_4y9MB/jpg',\n",
              "   'https://image.kkday.com/image/get/w_600%2Cc_fit/s1.kkday.com/product_177816/20240521040827_qracw/jpg'],\n",
              "  'currency': 'TWD',\n",
              "  'official_price': 4999,\n",
              "  'max_price': 5962,\n",
              "  'min_price': 4999,\n",
              "  'discount': 0,\n",
              "  'is_display_price': False,\n",
              "  'destinations': [{'code': 'D-JP-7423', 'name': '中區'}],\n",
              "  'is_marketplace': False,\n",
              "  'supplier_oid_list': [31416],\n",
              "  'supplier_name': None,\n",
              "  'supplier_logo': None,\n",
              "  'supplier_badge': 0,\n",
              "  'is_zero_price': False,\n",
              "  'is_kkday_best_route': False,\n",
              "  'prod_discount_type': None,\n",
              "  'instant_booking': True},\n",
              " {'prod_mid': 265341,\n",
              "  'prod_oid': 265341,\n",
              "  'name': '日本東京|淺草うな鐵  站前本店・國際通店|鹽味・醬汁鰻魚飯',\n",
              "  'introduction': '淺草鰻魚飯發源店精選鰻魚,從頭到尾不浪費一絲一毫,盡享美味。精選新鮮活鰻,由店內的職人親自開割、穿串、烤製,全程手工完成。',\n",
              "  'rating_count': 0,\n",
              "  'rating_star': 0,\n",
              "  'show_order_count': '',\n",
              "  'earliest_sale_date': '20250615',\n",
              "  'sale_status': 1,\n",
              "  'purchase_type': None,\n",
              "  'purchase_date': None,\n",
              "  'is_tourism_product': True,\n",
              "  'readable_url': None,\n",
              "  'product_category': {'main': 'CATEGORY_079', 'sub': []},\n",
              "  'display_tags': ['2天前可免費取消', '即買即用', '立即確認'],\n",
              "  'img_url_list': ['https://image.kkday.com/image/get/w_600%2Cc_fit/s1.kkday.com/product_265341/20241219055933_r56pN/jpg',\n",
              "   'https://image.kkday.com/image/get/w_600%2Cc_fit/s1.kkday.com/product_265341/20241219055926_pKuan/jpg',\n",
              "   'https://image.kkday.com/image/get/w_600%2Cc_fit/s1.kkday.com/product_265341/20241219055927_6W1GC/jpg',\n",
              "   'https://image.kkday.com/image/get/w_600%2Cc_fit/s1.kkday.com/product_265341/20241219055934_KOEGI/jpg',\n",
              "   'https://image.kkday.com/image/get/w_600%2Cc_fit/s1.kkday.com/product_265341/20241219055926_uvDXU/jpg',\n",
              "   'https://image.kkday.com/image/get/w_600%2Cc_fit/s1.kkday.com/product_265341/20241219055911_MwFr7/jpg',\n",
              "   'https://image.kkday.com/image/get/w_600%2Cc_fit/s1.kkday.com/product_265341/20241219055910_JVi29/jpg',\n",
              "   'https://image.kkday.com/image/get/w_600%2Cc_fit/s1.kkday.com/product_265341/20241219055918_mKN7i/jpg',\n",
              "   'https://image.kkday.com/image/get/w_600%2Cc_fit/s1.kkday.com/product_265341/20241219055918_lzPIU/jpg'],\n",
              "  'currency': 'TWD',\n",
              "  'official_price': 1342,\n",
              "  'max_price': 1637,\n",
              "  'min_price': 1342,\n",
              "  'discount': 0,\n",
              "  'is_display_price': False,\n",
              "  'destinations': [{'code': 'D-JP-3639', 'name': '淺草'},\n",
              "   {'code': 'D-JP-3261', 'name': '東京'},\n",
              "   {'code': 'D-JP-3218', 'name': '關東'},\n",
              "   {'code': 'D-JP-112', 'name': '日本'}],\n",
              "  'is_marketplace': False,\n",
              "  'supplier_oid_list': [31416],\n",
              "  'supplier_name': None,\n",
              "  'supplier_logo': None,\n",
              "  'supplier_badge': 0,\n",
              "  'is_zero_price': False,\n",
              "  'is_kkday_best_route': False,\n",
              "  'prod_discount_type': None,\n",
              "  'instant_booking': True},\n",
              " {'prod_mid': 157387,\n",
              "  'prod_oid': 157387,\n",
              "  'name': '日本美食|人氣壽司餐廳 鮨まつもと Matsumoto|線上預訂',\n",
              "  'introduction': '「鮨まつもとMatsumoto」提供由經驗豐富的廚師精心製作的精緻小吃與傳統江戶前壽司。請盡情品嚐江戶前壽司。',\n",
              "  'rating_count': 1,\n",
              "  'rating_star': 4,\n",
              "  'show_order_count': '',\n",
              "  'earliest_sale_date': '20250615',\n",
              "  'sale_status': 1,\n",
              "  'purchase_type': None,\n",
              "  'purchase_date': None,\n",
              "  'is_tourism_product': True,\n",
              "  'readable_url': 'japan-sushi-matsumoto-restaurant',\n",
              "  'product_category': {'main': 'CATEGORY_079', 'sub': []},\n",
              "  'display_tags': ['4天前可免費取消', '即買即用', '立即確認'],\n",
              "  'img_url_list': ['https://image.kkday.com/image/get/w_600%2Cc_fit/s1.kkday.com/product_157387/20231130000140_wl6wg/jpg',\n",
              "   'https://image.kkday.com/image/get/w_600%2Cc_fit/s1.kkday.com/product_157387/20231130000141_SL7ar/jpg',\n",
              "   'https://image.kkday.com/image/get/w_600%2Cc_fit/s1.kkday.com/product_157387/20231130000254_SWpJT/png',\n",
              "   'https://image.kkday.com/image/get/w_600%2Cc_fit/s1.kkday.com/product_157387/20231130000255_7C59I/png',\n",
              "   'https://image.kkday.com/image/get/w_600%2Cc_fit/s1.kkday.com/product_157387/20231130000144_LoqcN/jpg'],\n",
              "  'currency': 'TWD',\n",
              "  'official_price': 4405,\n",
              "  'max_price': 6597,\n",
              "  'min_price': 4405,\n",
              "  'discount': 0,\n",
              "  'is_display_price': False,\n",
              "  'destinations': [{'code': 'D-JP-3342', 'name': '心齋橋'},\n",
              "   {'code': 'D-JP-3660', 'name': '品川'},\n",
              "   {'code': 'D-JP-3880', 'name': '坂戶'},\n",
              "   {'code': 'D-JP-7347', 'name': '日本橋川'},\n",
              "   {'code': 'D-JP-8015', 'name': '日本橋'},\n",
              "   {'code': 'D-JP-3255', 'name': '大阪'},\n",
              "   {'code': 'D-JP-3261', 'name': '東京'},\n",
              "   {'code': 'D-JP-3217', 'name': '關西'},\n",
              "   {'code': 'D-JP-3218', 'name': '關東'},\n",
              "   {'code': 'D-JP-112', 'name': '日本'}],\n",
              "  'is_marketplace': False,\n",
              "  'supplier_oid_list': [31416],\n",
              "  'supplier_name': None,\n",
              "  'supplier_logo': None,\n",
              "  'supplier_badge': 0,\n",
              "  'is_zero_price': False,\n",
              "  'is_kkday_best_route': False,\n",
              "  'prod_discount_type': None,\n",
              "  'instant_booking': True}]"
            ]
          },
          "metadata": {},
          "execution_count": 84
        }
      ]
    },
    {
      "cell_type": "markdown",
      "source": [
        "- 數據存儲方式\n",
        "  - 將數據存儲為 CSV 格式，方便後續分析。"
      ],
      "metadata": {
        "id": "Fx3h33cU8n8t"
      }
    },
    {
      "cell_type": "code",
      "source": [
        "# 展示資料程式碼\n",
        "from IPython.display import Image, display\n",
        "\n",
        "for foodie in foodie['data']:\n",
        "  print(foodie['name'], foodie['rating_star'], foodie['official_price'])\n",
        "  print(foodie['introduction'])\n",
        "  img_list = foodie.get('img_url_list', [])\n",
        "  if img_list:\n",
        "      # 顯示第一張圖片\n",
        "      display(Image(url=img_list[0], width=300))\n",
        "  else:\n",
        "      print('[無圖片]')\n",
        "  print('-' * 40)\n",
        "print()\n"
      ],
      "metadata": {
        "id": "jsLbLuSa8mnY",
        "outputId": "2e784a66-27d5-4d68-e4fe-a558a59a69fd",
        "colab": {
          "base_uri": "https://localhost:8080/",
          "height": 1000
        }
      },
      "execution_count": 85,
      "outputs": [
        {
          "output_type": "stream",
          "name": "stdout",
          "text": [
            "日本東京|肉屋台所 A5和牛燒肉吃到飽|東京新宿・澀谷・上野等 4.21 922\n",
            "東京都內的肉屋台所有上野店、上野公園店、新宿店、澀谷宮益坂店、道玄坂店、飯田橋店、五反田店等分店。本店一次大量採購精選A4和A5等級的和牛,搭配肉料理職人的肉品區塊分解,來降低中間加工費用,實現了高 CP 值的料理。提供您用合理價格享受和牛臀肉和芯玉等稀少部位的吃到飽服務。\n"
          ]
        },
        {
          "output_type": "display_data",
          "data": {
            "text/html": [
              "<img src=\"https://image.kkday.com/image/get/w_600%2Cc_fit/s1.kkday.com/product_141701/20230330082655_bw4ZN/jpg\" width=\"300\"/>"
            ],
            "text/plain": [
              "<IPython.core.display.Image object>"
            ]
          },
          "metadata": {}
        },
        {
          "output_type": "stream",
          "name": "stdout",
          "text": [
            "----------------------------------------\n",
            "日本・東京|百年老店しゃぶ禅・日式涮鍋・壽喜燒|銀座店 4.64 2321\n",
            "老字號日本火鍋餐廳—しゃぶ禪,國產和牛、黑毛和牛 2 小時吃到飽,就算分店眾多仍是一位難求!極薄的牛肉片在高湯和壽喜鍋湯汁中輕涮,帶出日本高級牛肉原有的滋味和芳香。KKday和交通方便的銀座店合作,一邊品嚐新鮮軟嫩的和牛之餘還能欣賞東京灣的風景!\n"
          ]
        },
        {
          "output_type": "display_data",
          "data": {
            "text/html": [
              "<img src=\"https://image.kkday.com/image/get/w_600%2Cc_fit/s1.kkday.com/product_21819/20190227075818_rktX6/jpg\" width=\"300\"/>"
            ],
            "text/plain": [
              "<IPython.core.display.Image object>"
            ]
          },
          "metadata": {}
        },
        {
          "output_type": "stream",
          "name": "stdout",
          "text": [
            "----------------------------------------\n",
            "日本東京|燒肉房家 A5和牛套餐|西日暮里本店・日暮里店・上野六丁目店・日本橋店・東京車站店 4.47 1125\n",
            "距離車站步行2分鐘,交通便利的好位置。使用的是採購整頭牛的A5等級日本和牛的道地燒肉店。因所採購的是一整頭牛,您可享受難能可貴的用餐體驗。在此可享用每天更換的各種部位的牛肉拼盤及新鮮製作的冷面。無論吃什麼、喝什麼,盡是美味。也請務必參考谷歌等等的網站介紹。房家等候您的光臨。\n"
          ]
        },
        {
          "output_type": "display_data",
          "data": {
            "text/html": [
              "<img src=\"https://image.kkday.com/image/get/w_600%2Cc_fit/s1.kkday.com/product_164991/20240318065722_K8PxL/jpg\" width=\"300\"/>"
            ],
            "text/plain": [
              "<IPython.core.display.Image object>"
            ]
          },
          "metadata": {}
        },
        {
          "output_type": "stream",
          "name": "stdout",
          "text": [
            "----------------------------------------\n",
            "日本\b人氣河豚餐廳 | 河豚料理名店・玄品河豚 4.62 1086\n",
            "線上訂購日本人氣河豚餐廳,東京、大阪、京都、北海道各種分店自由選擇,創業 33 年銷售量及店鋪數量日本第一的「 玄品河豚 」每年到訪人數達 81 萬人,「 虎河豚 」被視為最高級的品種。為了以更加美味的狀態提供虎河豚,玄品河豚的獨家技術獲得了國際專利!通過 KKday 預訂免排隊,用餐更方便!\n"
          ]
        },
        {
          "output_type": "display_data",
          "data": {
            "text/html": [
              "<img src=\"https://image.kkday.com/image/get/w_600%2Cc_fit/s1.kkday.com/product_11352/20210520013355_dIBW8/jpg\" width=\"300\"/>"
            ],
            "text/plain": [
              "<IPython.core.display.Image object>"
            ]
          },
          "metadata": {}
        },
        {
          "output_type": "stream",
          "name": "stdout",
          "text": [
            "----------------------------------------\n",
            "東京新宿| 燒肉新宿烤肉牛舌檸檬(新宿烤肉牛舌檸檬本店)|僅座位預訂 4.69 90\n",
            "厚切牛舌味道鮮美! 「新宿烤肉牛舌的檸檬」的總店。唯一直營店在大阪難波開幕。如果您想在之前去, 11:30 或 17:00 是最佳時間! !您也可以透過電話預訂!\n",
            "此外,即使Tabelog線上預訂已滿,透過Instagram預訂也可能有空位!\n",
            "轉到下面的 URL。\n",
            "我們還提供免費座位,因此您當天可以來,無需預約。\n",
            "\n",
            "備註:對於已預訂的顧客\n",
            "若您遲到5分鐘以上且沒有聯絡我們,我們將讓等候的顧客先入。\n",
            "請等到下一個座位空出來。\n",
            "週五、六至 22:30\n",
            "備註:套餐限60分鐘。\n",
            "注意:無法指定座位類型\n"
          ]
        },
        {
          "output_type": "display_data",
          "data": {
            "text/html": [
              "<img src=\"https://image.kkday.com/image/get/w_600%2Cc_fit/s1.kkday.com/product_207035/20241001165737_QCecs/png\" width=\"300\"/>"
            ],
            "text/plain": [
              "<IPython.core.display.Image object>"
            ]
          },
          "metadata": {}
        },
        {
          "output_type": "stream",
          "name": "stdout",
          "text": [
            "----------------------------------------\n",
            "日本美食|連鎖鐵板燒品牌・Sublime|東京・大阪・名古屋餐廳預約 0 4753\n",
            "用KKday輕鬆訂購被收錄於東京米其林指南的鐵板燒名店Sublime。\n"
          ]
        },
        {
          "output_type": "display_data",
          "data": {
            "text/html": [
              "<img src=\"https://image.kkday.com/image/get/w_600%2Cc_fit/s1.kkday.com/product_145652/20230616071022_r4nZz/jpg\" width=\"300\"/>"
            ],
            "text/plain": [
              "<IPython.core.display.Image object>"
            ]
          },
          "metadata": {}
        },
        {
          "output_type": "stream",
          "name": "stdout",
          "text": [
            "----------------------------------------\n",
            "日本東京|江戶前屋形船|文字燒吃到飽及飲品暢飲 4.33 1952\n",
            "江戶前汽船是個「業界最便宜」的以「安全・乾淨・高CP值」為原則,且以「由娛樂擴展屋形船」為願景的文字燒屋形船。可周遊象徵了東京的進化的「台場」及「彩虹大橋」等非日常的水上體驗。可享受以東京美食「月島文字燒」為主的「創作鐵板料理」吃到飽&喝到飽。\n"
          ]
        },
        {
          "output_type": "display_data",
          "data": {
            "text/html": [
              "<img src=\"https://image.kkday.com/image/get/w_600%2Cc_fit/s1.kkday.com/product_135732/20231107084544_WVZAX/jpg\" width=\"300\"/>"
            ],
            "text/plain": [
              "<IPython.core.display.Image object>"
            ]
          },
          "metadata": {}
        },
        {
          "output_type": "stream",
          "name": "stdout",
          "text": [
            "----------------------------------------\n",
            "日本東京|京橋 天婦羅和壽司 ishii(天冨良と鮨いしい) 0 4999\n",
            "邀請您盡情享受由主廚精選食材製作的美味壽司和天婦羅套餐。\n"
          ]
        },
        {
          "output_type": "display_data",
          "data": {
            "text/html": [
              "<img src=\"https://image.kkday.com/image/get/w_600%2Cc_fit/s1.kkday.com/product_177816/20240521040828_DXBon/jpg\" width=\"300\"/>"
            ],
            "text/plain": [
              "<IPython.core.display.Image object>"
            ]
          },
          "metadata": {}
        },
        {
          "output_type": "stream",
          "name": "stdout",
          "text": [
            "----------------------------------------\n",
            "日本東京|淺草うな鐵  站前本店・國際通店|鹽味・醬汁鰻魚飯 0 1342\n",
            "淺草鰻魚飯發源店精選鰻魚,從頭到尾不浪費一絲一毫,盡享美味。精選新鮮活鰻,由店內的職人親自開割、穿串、烤製,全程手工完成。\n"
          ]
        },
        {
          "output_type": "display_data",
          "data": {
            "text/html": [
              "<img src=\"https://image.kkday.com/image/get/w_600%2Cc_fit/s1.kkday.com/product_265341/20241219055933_r56pN/jpg\" width=\"300\"/>"
            ],
            "text/plain": [
              "<IPython.core.display.Image object>"
            ]
          },
          "metadata": {}
        },
        {
          "output_type": "stream",
          "name": "stdout",
          "text": [
            "----------------------------------------\n",
            "日本美食|人氣壽司餐廳 鮨まつもと Matsumoto|線上預訂 4 4405\n",
            "「鮨まつもとMatsumoto」提供由經驗豐富的廚師精心製作的精緻小吃與傳統江戶前壽司。請盡情品嚐江戶前壽司。\n"
          ]
        },
        {
          "output_type": "display_data",
          "data": {
            "text/html": [
              "<img src=\"https://image.kkday.com/image/get/w_600%2Cc_fit/s1.kkday.com/product_157387/20231130000140_wl6wg/jpg\" width=\"300\"/>"
            ],
            "text/plain": [
              "<IPython.core.display.Image object>"
            ]
          },
          "metadata": {}
        },
        {
          "output_type": "stream",
          "name": "stdout",
          "text": [
            "----------------------------------------\n",
            "\n"
          ]
        }
      ]
    },
    {
      "cell_type": "markdown",
      "source": [
        "## 問題與挑戰"
      ],
      "metadata": {
        "id": "6yHFop_b73gY"
      }
    },
    {
      "cell_type": "markdown",
      "source": [
        "- 技術挑戰  \n",
        "    需透過 AJAX 取得資料\n",
        "- 資料限制  \n",
        "    部分住宿資訊可能不完整，影響分析結果。"
      ],
      "metadata": {
        "id": "D6roihku8PBu"
      }
    },
    {
      "cell_type": "markdown",
      "source": [
        "## 結論"
      ],
      "metadata": {
        "id": "VeQHgVuqqD3J"
      }
    },
    {
      "cell_type": "markdown",
      "source": [
        "\n",
        "- 成功獲取並分析了 KKday 推薦的東京燒烤資訊，為旅遊提供了有價值的參考。\n",
        "- 未來可擴展至其他旅遊平台，進行跨平台比較分析。"
      ],
      "metadata": {
        "id": "Baea2g7J9DAL"
      }
    },
    {
      "cell_type": "markdown",
      "source": [
        "## 參考文獻"
      ],
      "metadata": {
        "id": "j5hI_9QW9dTt"
      }
    },
    {
      "cell_type": "markdown",
      "source": [
        "* [KKDay](https://www.kkday.com/)"
      ],
      "metadata": {
        "id": "eLFvp2Fk9fSa"
      }
    }
  ]
}