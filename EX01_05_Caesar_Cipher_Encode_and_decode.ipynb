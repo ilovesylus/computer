{
  "nbformat": 4,
  "nbformat_minor": 0,
  "metadata": {
    "colab": {
      "provenance": [],
      "authorship_tag": "ABX9TyP+5/JV6iZQ+ZAMvOxIjmXA",
      "include_colab_link": true
    },
    "kernelspec": {
      "name": "python3",
      "display_name": "Python 3"
    },
    "language_info": {
      "name": "python"
    }
  },
  "cells": [
    {
      "cell_type": "markdown",
      "metadata": {
        "id": "view-in-github",
        "colab_type": "text"
      },
      "source": [
        "<a href=\"https://colab.research.google.com/github/ilovesylus/computer/blob/main/EX01_05_Caesar_Cipher_Encode_and_decode.ipynb\" target=\"_parent\"><img src=\"https://colab.research.google.com/assets/colab-badge.svg\" alt=\"Open In Colab\"/></a>"
      ]
    },
    {
      "cell_type": "code",
      "execution_count": 3,
      "metadata": {
        "colab": {
          "base_uri": "https://localhost:8080/"
        },
        "id": "_pU7e8AuAl_U",
        "outputId": "155b3ca9-3447-40b6-ee8e-fa575d5948a6"
      },
      "outputs": [
        {
          "output_type": "stream",
          "name": "stdout",
          "text": [
            "d9\n",
            "qnuux\n",
            "hello\n"
          ]
        }
      ],
      "source": [
        "act = input()\n",
        "txt = input()\n",
        "\n",
        "act_type = act[0]\n",
        "key = int(act[1:])\n",
        "ntxt =''\n",
        "\n",
        "if act_type == 'd':\n",
        "  for c in txt:\n",
        "    nc = ord(c) - key\n",
        "    ntxt += chr(nc)\n",
        "else:\n",
        "  for c in txt:\n",
        "    nc = ord(c) + key\n",
        "    ntxt += chr(nc)\n",
        "\n",
        "print(ntxt)"
      ]
    },
    {
      "cell_type": "code",
      "source": [
        "ord('a')\n",
        "chr(99)"
      ],
      "metadata": {
        "colab": {
          "base_uri": "https://localhost:8080/",
          "height": 36
        },
        "id": "Thz8O0MsGfBS",
        "outputId": "28fc73dc-2738-4e45-a197-4f2af81d3d19"
      },
      "execution_count": 3,
      "outputs": [
        {
          "output_type": "execute_result",
          "data": {
            "text/plain": [
              "'c'"
            ],
            "application/vnd.google.colaboratory.intrinsic+json": {
              "type": "string"
            }
          },
          "metadata": {},
          "execution_count": 3
        }
      ]
    }
  ]
}