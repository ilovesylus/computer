{
  "cells": [
    {
      "cell_type": "markdown",
      "metadata": {
        "id": "view-in-github",
        "colab_type": "text"
      },
      "source": [
        "<a href=\"https://colab.research.google.com/github/ilovesylus/computer/blob/main/EX05_04_Reply_Template_Messages.ipynb\" target=\"_parent\"><img src=\"https://colab.research.google.com/assets/colab-badge.svg\" alt=\"Open In Colab\"/></a>"
      ]
    },
    {
      "cell_type": "code",
      "execution_count": null,
      "metadata": {
        "collapsed": true,
        "id": "fELb7FwlUPKL"
      },
      "outputs": [],
      "source": [
        "!pip install -q pyngrok flask_ngrok # for colab\n",
        "!pip install -q flask line-bot-sdk"
      ]
    },
    {
      "cell_type": "code",
      "execution_count": null,
      "metadata": {
        "colab": {
          "background_save": true,
          "base_uri": "https://localhost:8080/"
        },
        "id": "vSWNcBRhWk2U",
        "outputId": "a925bdf6-eaf4-42fc-9c80-0690ca47c47f"
      },
      "outputs": [
        {
          "name": "stdout",
          "output_type": "stream",
          "text": [
            " * Serving Flask app '__main__'\n",
            " * Debug mode: off\n"
          ]
        },
        {
          "name": "stderr",
          "output_type": "stream",
          "text": [
            "INFO:werkzeug:\u001b[31m\u001b[1mWARNING: This is a development server. Do not use it in a production deployment. Use a production WSGI server instead.\u001b[0m\n",
            " * Running on http://127.0.0.1:5000\n",
            "INFO:werkzeug:\u001b[33mPress CTRL+C to quit\u001b[0m\n"
          ]
        },
        {
          "name": "stdout",
          "output_type": "stream",
          "text": [
            " * Running on http://1f67-34-81-77-78.ngrok-free.app\n",
            " * Traffic stats available on http://127.0.0.1:4040\n"
          ]
        },
        {
          "name": "stderr",
          "output_type": "stream",
          "text": [
            "INFO:werkzeug:127.0.0.1 - - [13/May/2025 07:36:40] \"\u001b[33mGET / HTTP/1.1\u001b[0m\" 404 -\n",
            "INFO:werkzeug:127.0.0.1 - - [13/May/2025 07:36:41] \"\u001b[33mGET /favicon.ico HTTP/1.1\u001b[0m\" 404 -\n",
            "INFO:werkzeug:127.0.0.1 - - [13/May/2025 07:36:52] \"\u001b[33mGET / HTTP/1.1\u001b[0m\" 404 -\n",
            "INFO:werkzeug:127.0.0.1 - - [13/May/2025 07:37:10] \"POST /callback HTTP/1.1\" 200 -\n",
            "INFO:werkzeug:127.0.0.1 - - [13/May/2025 07:37:20] \"POST /callback HTTP/1.1\" 200 -\n",
            "INFO:werkzeug:127.0.0.1 - - [13/May/2025 07:37:41] \"POST /callback HTTP/1.1\" 200 -\n",
            "INFO:werkzeug:127.0.0.1 - - [13/May/2025 07:37:43] \"POST /callback HTTP/1.1\" 200 -\n",
            "INFO:werkzeug:127.0.0.1 - - [13/May/2025 07:37:56] \"POST /callback HTTP/1.1\" 200 -\n",
            "INFO:werkzeug:127.0.0.1 - - [13/May/2025 07:37:58] \"POST /callback HTTP/1.1\" 200 -\n"
          ]
        }
      ],
      "source": [
        "# for colab\n",
        "from google.colab import userdata\n",
        "from pyngrok import ngrok\n",
        "from flask_ngrok import run_with_ngrok\n",
        "def ngrok_start():\n",
        "    ngrok.set_auth_token(userdata.get('NGROK_AUTHTOKEN'))\n",
        "    ngrok.connect(5000)\n",
        "    run_with_ngrok(app)\n",
        "\n",
        "from flask import Flask, request, abort\n",
        "\n",
        "from linebot.v3 import WebhookHandler\n",
        "from linebot.v3.exceptions import InvalidSignatureError\n",
        "from linebot.v3.webhooks import MessageEvent, TextMessageContent\n",
        "from linebot.v3.messaging import (\n",
        "    Configuration, ApiClient, MessagingApi,\n",
        "    ReplyMessageRequest,\n",
        "    TextMessage,\n",
        "    TemplateMessage,ConfirmTemplate,MessageAction\n",
        ")\n",
        "\n",
        "app = Flask(__name__)\n",
        "\n",
        "\n",
        "\n",
        "\n",
        "\n",
        "configuration = Configuration(access_token=userdata.get('LINE_CHANNEL_ACCESS_TOKEN'))\n",
        "handler = WebhookHandler(userdata.get('LINE_CHANNEL_SECRET'))\n",
        "\n",
        "@app.route(\"/callback\", methods=['POST'])\n",
        "def callback():\n",
        "    signature = request.headers['X-Line-Signature']\n",
        "    body = request.get_data(as_text=True)\n",
        "    try:\n",
        "        handler.handle(body, signature)\n",
        "    except InvalidSignatureError:\n",
        "        abort(400)\n",
        "    return 'OK'\n",
        "\n",
        "\n",
        "@handler.add(MessageEvent, message=TextMessageContent)\n",
        "def handle_message(event):\n",
        "  with ApiClient(configuration) as api_client:\n",
        "    line_bot_api = MessagingApi(api_client)\n",
        "\n",
        "    action = event.message.text\n",
        "    if action == 'confirm':\n",
        "      reply = TemplateMessage(\n",
        "        alt_text=\"這是確認視窗\",\n",
        "        template = ConfirmTemplate(\n",
        "          text=\"你喜歡秦徹嗎?\",\n",
        "          actions=[\n",
        "            MessageAction(label=\"是\", text=\"我超愛，我愛死\"),\n",
        "            MessageAction(label=\"否\", text=\"你沒有拒絕的選擇\")\n",
        "          ]\n",
        "        )\n",
        "      )\n",
        "    elif action == 'carousel':\n",
        "      carousel_template = CarouselTemplate(\n",
        "        columns=[\n",
        "          CarouselColumn(\n",
        "            thumbnail_image_url='https://assets.papegames.com/nikkiweb/papegame/deepspacetw/material/20240705/08f0bef2c9df599d8e600f53526d1d04.jpeg',\n",
        "            title='你欠我一場比死亡更隆重的謝幕禮'\n",
        "            text='就讓我幫你想起來你的過去和未來，還有你將犯下的所有罪行...畢竟，我們才是真正的\"同類\"'\n",
        "\n",
        "\n",
        "\n",
        "\n",
        "\n",
        "\n",
        "      reply = TemplateMessage(\n",
        "          alt_text=\"這是確認視窗\",\n",
        "          template=template\n",
        "      )\n",
        "    else:\n",
        "      reply = TextMessage(text='Please type\"confirm\"! ')\n",
        "\n",
        "    line_bot_api.reply_message(\n",
        "      ReplyMessageRequest(\n",
        "        reply_token=event.reply_token,\n",
        "        messages=[\n",
        "          reply\n",
        "        ]\n",
        "      )\n",
        "    )\n",
        "\n",
        "\n",
        "\n",
        "ngrok_start() # for colab\n",
        "if __name__ == \"__main__\":\n",
        "    app.run()"
      ]
    }
  ],
  "metadata": {
    "colab": {
      "provenance": [],
      "authorship_tag": "ABX9TyPSoSW/GJCOVDTKVUw+JFKl",
      "include_colab_link": true
    },
    "kernelspec": {
      "display_name": "Python 3",
      "name": "python3"
    },
    "language_info": {
      "name": "python"
    }
  },
  "nbformat": 4,
  "nbformat_minor": 0
}