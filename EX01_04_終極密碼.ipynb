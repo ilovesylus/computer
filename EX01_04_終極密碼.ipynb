{
  "nbformat": 4,
  "nbformat_minor": 0,
  "metadata": {
    "colab": {
      "provenance": [],
      "authorship_tag": "ABX9TyO+Yrp2Xsq3VCGP0V1RtB1x",
      "include_colab_link": true
    },
    "kernelspec": {
      "name": "python3",
      "display_name": "Python 3"
    },
    "language_info": {
      "name": "python"
    }
  },
  "cells": [
    {
      "cell_type": "markdown",
      "metadata": {
        "id": "view-in-github",
        "colab_type": "text"
      },
      "source": [
        "<a href=\"https://colab.research.google.com/github/ilovesylus/computer/blob/main/EX01_04_%E7%B5%82%E6%A5%B5%E5%AF%86%E7%A2%BC.ipynb\" target=\"_parent\"><img src=\"https://colab.research.google.com/assets/colab-badge.svg\" alt=\"Open In Colab\"/></a>"
      ]
    },
    {
      "cell_type": "code",
      "execution_count": 2,
      "metadata": {
        "colab": {
          "base_uri": "https://localhost:8080/"
        },
        "id": "ADB6J6Equ9RG",
        "outputId": "1c373616-dfdd-4c46-c3b2-f5091e75fbca"
      },
      "outputs": [
        {
          "output_type": "stream",
          "name": "stdout",
          "text": [
            "0 - 100\n",
            "guess:50\n",
            "0 - 50\n",
            "guess:25\n",
            "0 - 25\n",
            "guess:20\n",
            "0 - 20\n",
            "guess:15\n",
            "0 - 15\n",
            "guess:10\n",
            "0 - 10\n",
            "guess:9\n",
            "0 - 9\n",
            "guess:5\n",
            "5 - 9\n",
            "guess:7\n",
            "答對了\n"
          ]
        }
      ],
      "source": [
        "import random\n",
        "bomb = random.randint(1,99)\n",
        "\n",
        "lf =0\n",
        "rt =100\n",
        "\n",
        "while True:\n",
        "  print(lf,'-',rt)\n",
        "  gu = int(input('guess:'))\n",
        "  if gu <=lf or gu>=rt:\n",
        "    print('超過範圍')\n",
        "  elif gu < bomb:\n",
        "    lf = gu\n",
        "  elif gu > bomb:\n",
        "    rt = gu\n",
        "  else:\n",
        "    print('答對了')\n",
        "    break\n",
        "\n",
        "\n"
      ]
    }
  ]
}