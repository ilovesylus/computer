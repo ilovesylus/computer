{
  "nbformat": 4,
  "nbformat_minor": 0,
  "metadata": {
    "colab": {
      "provenance": [],
      "authorship_tag": "ABX9TyNzubO+Pr2RHElKZjRDL4Zb",
      "include_colab_link": true
    },
    "kernelspec": {
      "name": "python3",
      "display_name": "Python 3"
    },
    "language_info": {
      "name": "python"
    }
  },
  "cells": [
    {
      "cell_type": "markdown",
      "metadata": {
        "id": "view-in-github",
        "colab_type": "text"
      },
      "source": [
        "<a href=\"https://colab.research.google.com/github/ilovesylus/computer/blob/main/EX02_06_%E9%96%8B%E7%9C%BC%E9%9B%BB%E5%BD%B1.ipynb\" target=\"_parent\"><img src=\"https://colab.research.google.com/assets/colab-badge.svg\" alt=\"Open In Colab\"/></a>"
      ]
    },
    {
      "cell_type": "code",
      "execution_count": 4,
      "metadata": {
        "colab": {
          "base_uri": "https://localhost:8080/"
        },
        "id": "rSBVXIi6POZs",
        "outputId": "0c0c17bd-095f-4154-8564-10a1ad1d772e"
      },
      "outputs": [
        {
          "output_type": "execute_result",
          "data": {
            "text/plain": [
              "<title>開眼電影網首頁--近期上映--</title>"
            ]
          },
          "metadata": {},
          "execution_count": 4
        }
      ],
      "source": [
        "import requests\n",
        "from bs4 import BeautifulSoup\n",
        "\n",
        "url = 'http://www.atmovies.com.tw/movie/next/'\n",
        "html = requests.get(url)\n",
        "html.encoding = 'utf-8'\n",
        "soup = BeautifulSoup(html.text,'lxml')\n",
        "soup.title"
      ]
    },
    {
      "cell_type": "code",
      "source": [
        "import os\n",
        "import csv\n",
        "if not os.path.exists('/content/movies'):\n",
        "  os.mkdir('/content/movies')\n",
        "\n",
        "movies = [ ['電影','上映日期'] ]\n",
        "\n",
        "for mv in soup.find('ul',class_='filmListAllX').find_all('li'):\n",
        "  ttl = mv.img['alt']\n",
        "  src = mv.img['src'].strip()\n",
        "  dat = mv.find('div',class_='runtime').text\n",
        "  dat = dat[5:15]\n",
        "  movies.append([ttl,dat])\n",
        "  print(ttl,src,dat)\n",
        "  response = requests.get(src)\n",
        "  with open(f'/content/movies/{ttl}.jpg','wb') as f:\n",
        "    f.write(response.content)\n",
        "\n",
        "with open('/content/movies/movies.csv','w',encoding='utf-8',newline='') as f:\n",
        "  w = csv.writer(f)\n",
        "  w.writerows(movies)\n",
        "\n"
      ],
      "metadata": {
        "colab": {
          "base_uri": "https://localhost:8080/"
        },
        "id": "qcj136lnQ00W",
        "outputId": "cfd383df-4f97-4147-d457-ce53e7e5d617"
      },
      "execution_count": 14,
      "outputs": [
        {
          "output_type": "stream",
          "name": "stdout",
          "text": [
            "我依然在此 http://www.atmovies.com.tw/photo101/fipt14961016/pl_fipt14961016_0002.jpg 2025/04/02\n",
            "MINECRAFT麥塊電影 http://www.atmovies.com.tw/photo101/faen83566834/pl_faen83566834_0005.jpg 2025/04/02\n",
            "會計師 2 http://www.atmovies.com.tw/photo101/faen47068946/pl_faen47068946_0001.jpg 2025/04/24\n",
            "直到黎明 http://www.atmovies.com.tw/photo101/fuen30955489/pl_fuen30955489_0001.jpg 2025/04/25\n",
            "黑袋行動 http://www.atmovies.com.tw/photo101/fben30988739/pl_fben30988739_0001.jpg 2025/04/30\n",
            "雷霆特攻隊* http://www.atmovies.com.tw/photo101/ften20969586/pl_ften20969586_0005.jpg 2025/04/30\n",
            "不可能的任務：最終清算 http://www.atmovies.com.tw/photo101/fmen62168299/pl_fmen62168299_0003.jpg 2025/05/23\n",
            "馴龍高手 http://www.atmovies.com.tw/photo101/fhen26743210/pl_fhen26743210_0001.jpg 2025/06/11\n",
            "天作之合 http://www.atmovies.com.tw/photo101/fmen30253473/pl_fmen30253473_0001.jpg 2025/06/13\n",
            "28年毀滅倒數 http://www.atmovies.com.tw/photo101/fyen10548174/pl_fyen10548174_0001.jpg 2025/06/18\n",
            "名偵探柯南：獨眼的殘像 http://www.atmovies.com.tw/photo101/fdjp35891502/pl_fdjp35891502_0001.jpg 2025/06/25\n",
            "F1® http://www.atmovies.com.tw/photo101/ffen16311594/pl_ffen16311594_0001.jpg 2025/06/26\n",
            "窒友梅根 2.0 http://www.atmovies.com.tw/photo101/fmen26342662/pl_fmen26342662_0001.jpg 2025/06/27\n",
            "侏羅紀世界：重生 http://www.atmovies.com.tw/photo101/fjen31036941/pl_fjen31036941_0001.jpg 2025/07/04\n",
            "超人 http://www.atmovies.com.tw/photo101/fsen45950044/pl_fsen45950044_0001.jpg 2025/07/11\n",
            "驚奇4超人：第一步 http://www.atmovies.com.tw/photo101/ffen10676052/pl_ffen10676052_0007.jpg 2025/07/23\n",
            "壞蛋聯盟2 http://www.atmovies.com.tw/photo101/fben30017619/pl_fben30017619_0001.jpg 2025/08/01\n",
            "劇場版「鬼滅之刃」無限城篇 http://www.atmovies.com.tw/photo101/fdjp32820897/pl_fdjp32820897_0001.jpg 2025/08/08\n",
            "動物方城市2 http://www.atmovies.com.tw/photo101/fzen31187839/pl_fzen31187839_0001.jpg 2025/11/26\n",
            "阿凡達：火與灰燼 http://www.atmovies.com.tw/photo101/faen71757678/pl_faen71757678_0001.jpg 2025/12/18\n",
            "玩具總動員5 http://www.atmovies.com.tw/photo101/ften29355505/pl_ften29355505_0001.jpg 2026/06/19\n"
          ]
        }
      ]
    }
  ]
}