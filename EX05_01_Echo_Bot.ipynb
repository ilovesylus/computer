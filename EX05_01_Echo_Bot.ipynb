{
  "nbformat": 4,
  "nbformat_minor": 0,
  "metadata": {
    "colab": {
      "provenance": [],
      "authorship_tag": "ABX9TyPwCy7aRUMmwtIJw1k3DMfb",
      "include_colab_link": true
    },
    "kernelspec": {
      "name": "python3",
      "display_name": "Python 3"
    },
    "language_info": {
      "name": "python"
    }
  },
  "cells": [
    {
      "cell_type": "markdown",
      "metadata": {
        "id": "view-in-github",
        "colab_type": "text"
      },
      "source": [
        "<a href=\"https://colab.research.google.com/github/ilovesylus/computer/blob/main/EX05_01_Echo_Bot.ipynb\" target=\"_parent\"><img src=\"https://colab.research.google.com/assets/colab-badge.svg\" alt=\"Open In Colab\"/></a>"
      ]
    },
    {
      "cell_type": "code",
      "source": [
        "!pip install -q flask pyngrok flask_ngrok line-bot-sdk"
      ],
      "metadata": {
        "id": "iph1rR_uq4Fi",
        "colab": {
          "base_uri": "https://localhost:8080/"
        },
        "collapsed": true,
        "outputId": "bc46bcad-db56-4043-cfcd-57dbb292391f"
      },
      "execution_count": 4,
      "outputs": [
        {
          "output_type": "stream",
          "name": "stdout",
          "text": [
            "\u001b[2K   \u001b[90m━━━━━━━━━━━━━━━━━━━━━━━━━━━━━━━━━━━━━━━━\u001b[0m \u001b[32m776.1/776.1 kB\u001b[0m \u001b[31m9.2 MB/s\u001b[0m eta \u001b[36m0:00:00\u001b[0m\n",
            "\u001b[2K   \u001b[90m━━━━━━━━━━━━━━━━━━━━━━━━━━━━━━━━━━━━━━━━\u001b[0m \u001b[32m165.6/165.6 kB\u001b[0m \u001b[31m11.9 MB/s\u001b[0m eta \u001b[36m0:00:00\u001b[0m\n",
            "\u001b[?25h"
          ]
        }
      ]
    },
    {
      "cell_type": "code",
      "source": [
        "from google.colab import userdata\n",
        "from pyngrok import ngrok\n",
        "from flask_ngrok import run_with_ngrok\n",
        "def ngrok_start():\n",
        "  ngork.set_auth_token(userdata.get('NGROK_AUTHTOKEN'))\n",
        "  ngrok.connect(5000)\n",
        "  run_with_ngrok(app)\n",
        "\n",
        "from flask import Flask, request, abort\n",
        "\n",
        "from linebot.v3 import (\n",
        "    WebhookHandler\n",
        ")\n",
        "from linebot.v3.exceptions import (\n",
        "    InvalidSignatureError\n",
        ")\n",
        "from linebot.v3.messaging import (\n",
        "    Configuration,\n",
        "    ApiClient,\n",
        "    MessagingApi,\n",
        "    ReplyMessageRequest,\n",
        "    TextMessage\n",
        ")\n",
        "from linebot.v3.webhooks import (\n",
        "    MessageEvent,\n",
        "    TextMessageContent\n",
        ")\n",
        "\n",
        "app = Flask(__name__)\n",
        "\n",
        "configuration = Configuration(access_token='LINE_CHANNEL_ACCESS_TOKEN')\n",
        "handler = WebhookHandler('LINE_CHANNEL_SECRET')\n",
        "\n",
        "\n",
        "@app.route(\"/callback\", methods=['POST'])\n",
        "def callback():\n",
        "    # get X-Line-Signature header value\n",
        "    signature = request.headers['X-Line-Signature']\n",
        "\n",
        "    # get request body as text\n",
        "    body = request.get_data(as_text=True)\n",
        "    app.logger.info(\"Request body: \" + body)\n",
        "\n",
        "    # handle webhook body\n",
        "    try:\n",
        "        handler.handle(body, signature)\n",
        "    except InvalidSignatureError:\n",
        "        app.logger.info(\"Invalid signature. Please check your channel access token/channel secret.\")\n",
        "        abort(400)\n",
        "\n",
        "    return 'OK'\n",
        "\n",
        "\n",
        "@handler.add(MessageEvent, message=TextMessageContent)\n",
        "def handle_message(event):\n",
        "    with ApiClient(configuration) as api_client:\n",
        "        line_bot_api = MessagingApi(api_client)\n",
        "        line_bot_api.reply_message_with_http_info(\n",
        "            ReplyMessageRequest(\n",
        "                reply_token=event.reply_token,\n",
        "                messages=[TextMessage(text=event.message.text)]\n",
        "            )\n",
        "        )\n",
        "\n",
        "if __name__ == \"__main__\":\n",
        "    app.run()"
      ],
      "metadata": {
        "id": "UHgPgaXAq6AJ",
        "colab": {
          "base_uri": "https://localhost:8080/"
        },
        "outputId": "1c1dc389-c769-426a-b6ac-85b983870832"
      },
      "execution_count": 5,
      "outputs": [
        {
          "output_type": "stream",
          "name": "stdout",
          "text": [
            " * Serving Flask app '__main__'\n",
            " * Debug mode: off\n"
          ]
        },
        {
          "output_type": "stream",
          "name": "stderr",
          "text": [
            "INFO:werkzeug:\u001b[31m\u001b[1mWARNING: This is a development server. Do not use it in a production deployment. Use a production WSGI server instead.\u001b[0m\n",
            " * Running on http://127.0.0.1:5000\n",
            "INFO:werkzeug:\u001b[33mPress CTRL+C to quit\u001b[0m\n"
          ]
        }
      ]
    }
  ]
}