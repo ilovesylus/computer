{
  "nbformat": 4,
  "nbformat_minor": 0,
  "metadata": {
    "colab": {
      "provenance": [],
      "authorship_tag": "ABX9TyPr0nzRq0Dfh5dVMf311oKH",
      "include_colab_link": true
    },
    "kernelspec": {
      "name": "python3",
      "display_name": "Python 3"
    },
    "language_info": {
      "name": "python"
    }
  },
  "cells": [
    {
      "cell_type": "markdown",
      "metadata": {
        "id": "view-in-github",
        "colab_type": "text"
      },
      "source": [
        "<a href=\"https://colab.research.google.com/github/ilovesylus/computer/blob/main/EX02_01_My_Chatbot.ipynb\" target=\"_parent\"><img src=\"https://colab.research.google.com/assets/colab-badge.svg\" alt=\"Open In Colab\"/></a>"
      ]
    },
    {
      "cell_type": "code",
      "source": [
        "from google.colab import userdata\n",
        "import google.generativeai as genai\n",
        "genai.configure(api_key=userdata.get('GOOGLE_API_KEY'))"
      ],
      "metadata": {
        "id": "8rmZ6PlvS1lg"
      },
      "execution_count": 1,
      "outputs": []
    },
    {
      "cell_type": "code",
      "source": [
        "generaton_config ={\n",
        "    \"temperature\":1,\n",
        "    \"max_output_tokens\":1280,\n",
        "}\n",
        "model = genai.GenerativeModel(\n",
        "    model_name=\"gemini-2.0-flash\",\n",
        "    generation_config=generaton_config,\n",
        "\n",
        ")"
      ],
      "metadata": {
        "id": "8e1u6OTiS3l3"
      },
      "execution_count": 3,
      "outputs": []
    },
    {
      "cell_type": "code",
      "source": [
        "from IPython.display import Markdown, display\n",
        "\n",
        "chat = model.start_chat(history=[])\n",
        "\n",
        "while True:\n",
        "  message = input('You:')\n",
        "  if message == 'bye!':\n",
        "    break\n",
        "  response = chat.send_message(message)\n",
        "  print('Bot:')\n",
        "  display(Markdown(response.text))"
      ],
      "metadata": {
        "colab": {
          "base_uri": "https://localhost:8080/",
          "height": 1000
        },
        "id": "17jvZp_tUSlF",
        "outputId": "f83fdda6-313c-4751-b37e-2b22e5d8fe42"
      },
      "execution_count": 10,
      "outputs": [
        {
          "output_type": "stream",
          "name": "stdout",
          "text": [
            "You:hi\n",
            "Bot:\n"
          ]
        },
        {
          "output_type": "display_data",
          "data": {
            "text/plain": [
              "<IPython.core.display.Markdown object>"
            ],
            "text/markdown": "Hi there! How can I help you today?\n"
          },
          "metadata": {}
        },
        {
          "output_type": "stream",
          "name": "stdout",
          "text": [
            "You:im happy\n",
            "Bot:\n"
          ]
        },
        {
          "output_type": "display_data",
          "data": {
            "text/plain": [
              "<IPython.core.display.Markdown object>"
            ],
            "text/markdown": "That's wonderful to hear! What's making you happy today? I'm always up for hearing good news. 😊\n"
          },
          "metadata": {}
        },
        {
          "output_type": "stream",
          "name": "stdout",
          "text": [
            "You:can i ask you a question?\n",
            "Bot:\n"
          ]
        },
        {
          "output_type": "display_data",
          "data": {
            "text/plain": [
              "<IPython.core.display.Markdown object>"
            ],
            "text/markdown": "Of course! Ask away. I'll do my best to answer it.\n"
          },
          "metadata": {}
        },
        {
          "output_type": "stream",
          "name": "stdout",
          "text": [
            "You:how does the ai works?\n",
            "Bot:\n"
          ]
        },
        {
          "output_type": "display_data",
          "data": {
            "text/plain": [
              "<IPython.core.display.Markdown object>"
            ],
            "text/markdown": "That's a great question! Explaining how AI works is a bit like explaining how a car engine works - it can get complex quickly. But I'll give you a breakdown without diving too deep into the mathematical weeds.  Here's a simplified overview:\n\n**The Core Concept: Learning from Data**\n\nAt its heart, AI (especially the kind used in things like chatbots, image recognition, and recommendations) revolves around the idea of *learning from data*. Instead of being explicitly programmed with rules for every situation, AI systems are trained on vast amounts of data to identify patterns and relationships.\n\nThink of it like teaching a child to identify a cat. You don't give them a list of exact rules (like \"must have pointed ears, must have a tail\"). Instead, you show them lots of pictures of cats, and maybe some pictures of dogs, and they gradually learn to distinguish between the two based on the features they see.\n\n**Key Components of an AI System:**\n\n1.  **Data:**  This is the fuel for the AI engine.  It could be images, text, numbers, audio, or any other kind of information. The more data, and the better the quality of the data, the better the AI system can learn.\n\n2.  **Algorithms (Models):**  These are the mathematical formulas or sets of instructions that the AI uses to analyze the data and identify patterns.  Think of them as the \"brain\" of the AI.  Different types of AI use different algorithms, depending on the task.  Common types include:\n\n    *   **Machine Learning (ML):**  This is a broad category where the AI *learns* from the data without being explicitly programmed. Examples include:\n        *   **Supervised Learning:**  The AI is given labeled data (e.g., pictures of cats labeled \"cat\", pictures of dogs labeled \"dog\"). It learns to associate the features with the labels and then can predict the label for new, unseen images.\n        *   **Unsupervised Learning:** The AI is given unlabeled data and tries to find patterns or clusters on its own (e.g., grouping customers into different segments based on their purchasing behavior).\n        *   **Reinforcement Learning:**  The AI learns by trial and error, receiving rewards or penalties for its actions.  This is often used in robotics and game playing.\n\n    *   **Deep Learning (DL):**  A subset of machine learning that uses artificial neural networks with many layers (hence \"deep\").  These networks are inspired by the structure of the human brain and are particularly good at complex tasks like image and speech recognition.\n\n3.  **Neural Networks:** These are at the heart of Deep Learning.  They are complex structures of interconnected \"nodes\" or \"neurons\" arranged in layers.  Each connection has a \"weight\" associated with it.  When data is fed into the network, it flows through these connections, and the weights are adjusted during training to improve the network's accuracy.\n\n4.  **Training:**  This is the process of feeding the AI system the data and letting it learn. The algorithm adjusts its internal parameters (like the weights in a neural network) to minimize errors and improve its ability to make accurate predictions or decisions. This is often done iteratively, going through the data many times.\n\n5.  **Inference:**  Once the AI system is trained, it can be used to make predictions or decisions on new, unseen data.  This is called \"inference.\"  For example, after training on images of cats and dogs, the AI system can be shown a new image and predict whether it's a cat or a dog.\n\n**Simplified Analogy: Training a Dog**\n\nThink about training a dog to sit.\n\n*   **Data:** You show the dog the \"sit\" command and physically push its rear down.\n*   **Algorithm (Model):** The dog's brain (analogous to the AI algorithm) tries to associate the command, your action, and the feeling of sitting with the desired outcome.\n*   **Training:** You repeat the process many times, rewarding the dog when it sits correctly.  The dog learns to strengthen the connection between the command and the action.\n*   **Inference:**  Eventually, you can just say \"sit,\" and the dog will sit without you having to physically push it down.\n\n**The Role of Programming**\n\nWhile AI learns from data, it's still built using code. Programmers write the code that:\n\n*   Defines the architecture of the AI system (e.g., the structure of a neural network).\n*   Implements the algorithms.\n*   Handles the data (e.g., cleaning it, formatting it).\n*   Runs the training process.\n*   Deploys the trained model to be used in real-world applications.\n\n**In summary:** AI learns from data using algorithms and models that are designed and implemented by programmers. The more data the AI is exposed to, the better it becomes at identifying patterns and making accurate predictions or decisions.\n\n**Important Considerations:**\n\n*   **Bias:** AI systems can be biased if the data they are trained on is biased. This is a major ethical concern in AI.\n*   **Explainability:**  Some AI systems (especially deep learning models) are difficult to understand, making it hard to know *why* they made a particular decision. This is called the \"black box\" problem.\n*   **Computational Resources:** Training AI models can be computationally expensive, requiring powerful computers and large amounts of energy.\n\nThis is a high-level overview, and there are many nuances and complexities involved in building and deploying AI systems.  Do you have any specific areas of AI you'd like me to elaborate on?  For example, are you interested in:\n\n*   Natural Language Processing (NLP) – how AI understands and generates text?\n*   Computer Vision – how AI \"sees\" and interprets images?\n*   Specific AI models like Large Language Models (LLMs)?\n"
          },
          "metadata": {}
        },
        {
          "name": "stdout",
          "output_type": "stream",
          "text": [
            "You:bye!\n"
          ]
        }
      ]
    }
  ]
}